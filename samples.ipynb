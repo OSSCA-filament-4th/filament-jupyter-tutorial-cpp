{
 "cells": [
  {
   "cell_type": "code",
   "execution_count": 1,
   "metadata": {},
   "outputs": [],
   "source": [
    "#pragma cling add_include_path(\"./filament/include\")\n",
    "\n",
    "#pragma cling add_library_path(\"./build/shared_lib\")\n",
    "#pragma cling load(\"libfilament\")"
   ]
  },
  {
   "cell_type": "code",
   "execution_count": 2,
   "metadata": {},
   "outputs": [],
   "source": [
    "#include <filament/Engine.h>"
   ]
  },
  {
   "cell_type": "code",
   "execution_count": 3,
   "metadata": {},
   "outputs": [],
   "source": [
    "using namespace filament;\n",
    "using namespace utils;"
   ]
  },
  {
   "cell_type": "code",
   "execution_count": 6,
   "metadata": {},
   "outputs": [
    {
     "name": "stderr",
     "output_type": "stream",
     "text": [
      "\u001b[1minput_line_12:6:43: \u001b[0m\u001b[0;1;31merror: \u001b[0m\u001b[1muse of undeclared identifier 'EntityManager'; did you mean 'utils::EntityManager'?\u001b[0m\n",
      "    Camera* camera = engine->createCamera(EntityManager::get().create());\n",
      "\u001b[0;1;32m                                          ^~~~~~~~~~~~~\n",
      "\u001b[0m\u001b[0;32m                                          utils::EntityManager\n",
      "\u001b[0m\u001b[1m./filament/include/filament/Engine.h:28:7: \u001b[0m\u001b[0;1;30mnote: \u001b[0m'utils::EntityManager' declared here\u001b[0m\n",
      "class EntityManager;\n",
      "\u001b[0;1;32m      ^\n",
      "\u001b[0m\u001b[1minput_line_12:6:43: \u001b[0m\u001b[0;1;31merror: \u001b[0m\u001b[1mincomplete type 'utils::EntityManager' named in nested name specifier\u001b[0m\n",
      "    Camera* camera = engine->createCamera(EntityManager::get().create());\n",
      "\u001b[0;1;32m                                          ^~~~~~~~~~~~~~~\n",
      "\u001b[0m\u001b[1m./filament/include/filament/Engine.h:28:7: \u001b[0m\u001b[0;1;30mnote: \u001b[0mforward declaration of 'utils::EntityManager'\u001b[0m\n",
      "class EntityManager;\n",
      "\u001b[0;1;32m      ^\n",
      "\u001b[0m"
     ]
    },
    {
     "ename": "Interpreter Error",
     "evalue": "",
     "output_type": "error",
     "traceback": [
      "Interpreter Error: "
     ]
    }
   ],
   "source": [
    "int main() {\n",
    "    Engine* engine = Engine::create(filament::Engine::Backend::OPENGL);\n",
    "    // SwapChain* swapChain = engine->createSwapChain(nativeWindow);\n",
    "    Renderer* renderer = engine->createRenderer();\n",
    "    \n",
    "    Camera* camera = engine->createCamera(EntityManager::get().create());\n",
    "    View* view = engine->createView();\n",
    "    Scene* scene = engine->createScene();\n",
    "}"
   ]
  }
 ],
 "metadata": {
  "kernelspec": {
   "display_name": "C++17",
   "language": "C++17",
   "name": "xcpp17"
  },
  "language_info": {
   "codemirror_mode": "text/x-c++src",
   "file_extension": ".cpp",
   "mimetype": "text/x-c++src",
   "name": "c++",
   "version": "17"
  }
 },
 "nbformat": 4,
 "nbformat_minor": 4
}
