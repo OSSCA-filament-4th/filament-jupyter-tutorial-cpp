{
 "cells": [
  {
   "cell_type": "code",
   "execution_count": 1,
   "metadata": {},
   "outputs": [],
   "source": [
    "#pragma cling add_include_path(\"./filament/include\")\n",
    "#pragma cling add_library_path(\"./filament/lib\")\n",
    "#pragma load(\"libfilament\")\n",
    "\n",
    "#include <filament/FilamentAPI.h>\n",
    "#include <filament/Engine.h>"
   ]
  },
  {
   "cell_type": "code",
   "execution_count": 2,
   "metadata": {},
   "outputs": [],
   "source": [
    "using namespace filament;"
   ]
  },
  {
   "cell_type": "code",
   "execution_count": 3,
   "metadata": {},
   "outputs": [
    {
     "name": "stderr",
     "output_type": "stream",
     "text": [
      "IncrementalExecutor::executeFunction: symbol '_ZN8filament6Engine7Builder13sharedContextEPv' unresolved while linking function '_GLOBAL__sub_I_cling_module_7'!\n",
      "You are probably missing the definition of filament::Engine::Builder::sharedContext(void*)\n",
      "Maybe you need to load the corresponding shared library?\n",
      "IncrementalExecutor::executeFunction: symbol '_ZN8filament6Engine7BuilderC1Ev' unresolved while linking function '_GLOBAL__sub_I_cling_module_7'!\n",
      "You are probably missing the definition of filament::Engine::Builder::Builder()\n",
      "Maybe you need to load the corresponding shared library?\n",
      "IncrementalExecutor::executeFunction: symbol '_ZN8filament6Engine7Builder8platformEPNS_7backend8PlatformE' unresolved while linking function '_GLOBAL__sub_I_cling_module_7'!\n",
      "You are probably missing the definition of filament::Engine::Builder::platform(filament::backend::Platform*)\n",
      "Maybe you need to load the corresponding shared library?\n",
      "IncrementalExecutor::executeFunction: symbol '_ZN8filament6Engine7Builder6configEPKNS0_6ConfigE' unresolved while linking function '_GLOBAL__sub_I_cling_module_7'!\n",
      "You are probably missing the definition of filament::Engine::Builder::config(filament::Engine::Config const*)\n",
      "Maybe you need to load the corresponding shared library?\n",
      "IncrementalExecutor::executeFunction: symbol '_ZNK8filament6Engine7Builder5buildEv' unresolved while linking function '_GLOBAL__sub_I_cling_module_7'!\n",
      "You are probably missing the definition of filament::Engine::Builder::build() const\n",
      "Maybe you need to load the corresponding shared library?\n",
      "IncrementalExecutor::executeFunction: symbol '_ZN8filament6Engine7BuilderD1Ev' unresolved while linking function '_GLOBAL__sub_I_cling_module_7'!\n",
      "You are probably missing the definition of filament::Engine::Builder::~Builder()\n",
      "Maybe you need to load the corresponding shared library?\n",
      "IncrementalExecutor::executeFunction: symbol '_ZN8filament6Engine7Builder7backendENS_7backend7BackendE' unresolved while linking function '_GLOBAL__sub_I_cling_module_7'!\n",
      "You are probably missing the definition of filament::Engine::Builder::backend(filament::backend::Backend)\n",
      "Maybe you need to load the corresponding shared library?\n"
     ]
    }
   ],
   "source": [
    "Engine *engine = Engine::create();"
   ]
  }
 ],
 "metadata": {
  "kernelspec": {
   "display_name": "C++17",
   "language": "C++17",
   "name": "xcpp17"
  },
  "language_info": {
   "codemirror_mode": "text/x-c++src",
   "file_extension": ".cpp",
   "mimetype": "text/x-c++src",
   "name": "c++",
   "version": "17"
  }
 },
 "nbformat": 4,
 "nbformat_minor": 4
}
