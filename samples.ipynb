{
 "cells": [
  {
   "cell_type": "code",
   "execution_count": 13,
   "metadata": {},
   "outputs": [],
   "source": [
    "var msg = [\"Hello\", \"World\"].join(\", \");"
   ]
  },
  {
   "cell_type": "code",
   "execution_count": 14,
   "metadata": {},
   "outputs": [
    {
     "data": {
      "text/plain": [
       "'Hello, World'"
      ]
     },
     "execution_count": 14,
     "metadata": {},
     "output_type": "execute_result"
    }
   ],
   "source": [
    "msg;"
   ]
  },
  {
   "cell_type": "code",
   "execution_count": 41,
   "metadata": {},
   "outputs": [],
   "source": [
    "var Filament = require('filament');"
   ]
  },
  {
   "cell_type": "code",
   "execution_count": null,
   "metadata": {},
   "outputs": [],
   "source": [
    "Filament.init([], () => window.app = new App() );"
   ]
  },
  {
   "cell_type": "code",
   "execution_count": null,
   "metadata": {},
   "outputs": [],
   "source": [
    "class App {\n",
    "    constructor(canvas) {\n",
    "        this.canvas = canvas;\n",
    "        const engine = this.engine = Filament.Engine.create(this.canvas);\n",
    "        this.scene = engine.createScene();\n",
    "        this.triangle = Filament.EntityManager.get().create();\n",
    "        this.scene.addEntity(this.triangle);\n",
    "\n",
    "        const TRIANGLE_POSITIONS = new Float32Array([\n",
    "            1, 0,\n",
    "            Math.cos(Math.PI * 2 / 3), Math.sin(Math.PI * 2 / 3),\n",
    "            Math.cos(Math.PI * 4 / 3), Math.sin(Math.PI * 4 / 3),\n",
    "        ]);\n",
    "\n",
    "        const TRIANGLE_COLORS = new Uint32Array([0xffff0000, 0xff00ff00, 0xff0000ff]);\n",
    "\n",
    "        this.vb = Filament.VertexBuffer.Builder()\n",
    "            .vertexCount(3)\n",
    "            .bufferCount(2)\n",
    "            .attribute(VertexAttribute.POSITION, 0, AttributeType.FLOAT2, 0, 8)\n",
    "            .attribute(VertexAttribute.COLOR, 1, AttributeType.UBYTE4, 0, 4)\n",
    "            .normalized(VertexAttribute.COLOR)\n",
    "            .build(engine);\n",
    "\n",
    "        this.vb.setBufferAt(engine, 0, TRIANGLE_POSITIONS);\n",
    "        this.vb.setBufferAt(engine, 1, TRIANGLE_COLORS);\n",
    "\n",
    "        this.ib = Filament.IndexBuffer.Builder()\n",
    "            .indexCount(3)\n",
    "            .bufferType(Filament.IndexBuffer$IndexType.USHORT)\n",
    "            .build(engine);\n",
    "\n",
    "        this.ib.setBuffer(engine, new Uint16Array([0, 1, 2]));\n",
    "\n",
    "        const mat = engine.createMaterial('nonlit.filamat');\n",
    "        const matinst = mat.getDefaultInstance();\n",
    "        Filament.RenderableManager.Builder(1)\n",
    "            .boundingBox({ center: [-1, -1, -1], halfExtent: [1, 1, 1] })\n",
    "            .material(0, matinst)\n",
    "            .geometry(0, Filament.RenderableManager$PrimitiveType.TRIANGLES, this.vb, this.ib)\n",
    "            .build(engine, this.triangle);\n",
    "\n",
    "        this.swapChain = engine.createSwapChain();\n",
    "        this.renderer = engine.createRenderer();\n",
    "        this.camera = engine.createCamera(Filament.EntityManager.get().create());\n",
    "\n",
    "        this.view = engine.createView();\n",
    "        this.view.setSampleCount(4);\n",
    "        this.view.setCamera(this.camera);\n",
    "        this.view.setScene(this.scene);\n",
    "\n",
    "        this.renderer.setClearOptions({clearColor: [0.0, 0.1, 0.2, 1.0], clear: true});\n",
    "\n",
    "        this.resize();\n",
    "        this.render = this.render.bind(this);\n",
    "        this.resize = this.resize.bind(this);\n",
    "        window.addEventListener('resize', this.resize);\n",
    "        window.requestAnimationFrame(this.render);\n",
    "    }\n",
    "\n",
    "    render() {\n",
    "        const radians = Date.now() / 1000;\n",
    "        const transform = mat4.fromRotation(mat4.create(), radians, [0, 0, 1]);\n",
    "        const tcm = this.engine.getTransformManager();\n",
    "        const inst = tcm.getInstance(this.triangle);\n",
    "        tcm.setTransform(inst, transform);\n",
    "        inst.delete();\n",
    "        this.renderer.render(this.swapChain, this.view);\n",
    "        window.requestAnimationFrame(this.render);\n",
    "    }\n",
    "\n",
    "    resize() {\n",
    "        const dpr = window.devicePixelRatio;\n",
    "        const width = this.canvas.width = window.innerWidth * dpr;\n",
    "        const height = this.canvas.height = window.innerHeight * dpr;\n",
    "        this.view.setViewport([0, 0, width, height]);\n",
    "        const aspect = width / height;\n",
    "        this.camera.setProjection(Projection.ORTHO, -aspect, aspect, -1, 1, 0, 1);\n",
    "    }\n",
    "}"
   ]
  }
 ],
 "metadata": {
  "kernelspec": {
   "display_name": "JavaScript (Node.js)",
   "language": "javascript",
   "name": "javascript"
  },
  "language_info": {
   "file_extension": ".js",
   "mimetype": "application/javascript",
   "name": "javascript",
   "version": "18.16.0"
  }
 },
 "nbformat": 4,
 "nbformat_minor": 4
}
