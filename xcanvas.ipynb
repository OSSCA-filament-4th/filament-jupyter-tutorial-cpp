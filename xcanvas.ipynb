{
 "cells": [
  {
   "cell_type": "code",
   "execution_count": 1,
   "id": "a05a9027",
   "metadata": {},
   "outputs": [],
   "source": [
    "#include <sstream>"
   ]
  },
  {
   "cell_type": "code",
   "execution_count": 2,
   "id": "91996cea",
   "metadata": {},
   "outputs": [],
   "source": [
    "#include \"xcanvas/xcanvas.hpp\""
   ]
  },
  {
   "cell_type": "markdown",
   "id": "a3703462",
   "metadata": {},
   "source": [
    "#### Create canvas"
   ]
  },
  {
   "cell_type": "code",
   "execution_count": 3,
   "id": "1795b034",
   "metadata": {},
   "outputs": [
    {
     "data": {
      "application/vnd.jupyter.widget-view+json": {
       "model_id": "eab06106138640d3858e195bb31141d0",
       "version_major": 2,
       "version_minor": 0
      },
      "text/plain": [
       "A Jupyter widget with unique id: eab06106138640d3858e195bb31141d0"
      ]
     },
     "execution_count": 3,
     "metadata": {},
     "output_type": "execute_result"
    }
   ],
   "source": [
    "auto canvas = xc::canvas().initialize()\n",
    "    .width(300)\n",
    "    .height(300)\n",
    "    .finalize();\n",
    "\n",
    "canvas.fill_rect(0, 0, 50, 50);\n",
    "\n",
    "canvas"
   ]
  },
  {
   "cell_type": "code",
   "execution_count": 4,
   "id": "63807303",
   "metadata": {},
   "outputs": [],
   "source": [
    "canvas.fill_circle(100, 100, 50)"
   ]
  },
  {
   "cell_type": "markdown",
   "id": "03c5cd89",
   "metadata": {},
   "source": [
    "#### Clear canvas"
   ]
  },
  {
   "cell_type": "code",
   "execution_count": 5,
   "id": "4c638186",
   "metadata": {},
   "outputs": [],
   "source": [
    "canvas.clear()"
   ]
  },
  {
   "cell_type": "markdown",
   "id": "380c23b1",
   "metadata": {},
   "source": [
    "#### Resize canvas"
   ]
  },
  {
   "cell_type": "code",
   "execution_count": 6,
   "id": "1d385bbc",
   "metadata": {},
   "outputs": [],
   "source": [
    "canvas.width = 200;\n",
    "canvas.height = 200;"
   ]
  },
  {
   "cell_type": "markdown",
   "id": "f0a70e58",
   "metadata": {},
   "source": [
    "#### Shadows"
   ]
  },
  {
   "cell_type": "code",
   "execution_count": 7,
   "id": "b4853e8c",
   "metadata": {},
   "outputs": [],
   "source": [
    "canvas.fill_style = \"green\";\n",
    "canvas.shadow_offset_x = 3;\n",
    "canvas.shadow_offset_y = 3;\n",
    "canvas.shadow_blur = 3;\n",
    "canvas.shadow_color = \"black\";\n",
    "\n",
    "canvas.fill_circle(100, 100, 50);"
   ]
  },
  {
   "cell_type": "markdown",
   "id": "1cda4c5c",
   "metadata": {},
   "source": [
    "#### Transparency"
   ]
  },
  {
   "cell_type": "code",
   "execution_count": 8,
   "id": "e852b612",
   "metadata": {},
   "outputs": [],
   "source": [
    "canvas.global_alpha = 0.02;"
   ]
  },
  {
   "cell_type": "markdown",
   "id": "48b2535e",
   "metadata": {},
   "source": [
    "#### Cache canvas commands while making a big number of drawings "
   ]
  },
  {
   "cell_type": "code",
   "execution_count": 9,
   "id": "35f8d197",
   "metadata": {},
   "outputs": [],
   "source": [
    "canvas.cache();\n",
    "\n",
    "canvas.shadow_offset_x = 0;\n",
    "canvas.shadow_offset_y = 0;\n",
    "canvas.shadow_blur = 0;\n",
    "for (std::size_t i = 0; i < 200; i++)\n",
    "{\n",
    "    std::stringstream color;\n",
    "    color << \"rgb(200, \" << 200 - i << \", \" << i << \")\";\n",
    "    canvas.fill_style = color.str();\n",
    "\n",
    "    canvas.fill_rect(0, 0, 200, 200 - i);\n",
    "}\n",
    "\n",
    "canvas.flush();"
   ]
  },
  {
   "cell_type": "code",
   "execution_count": null,
   "id": "b3410e11",
   "metadata": {},
   "outputs": [],
   "source": []
  }
 ],
 "metadata": {
  "kernelspec": {
   "display_name": "C++17",
   "language": "C++17",
   "name": "xcpp17"
  },
  "language_info": {
   "codemirror_mode": "text/x-c++src",
   "file_extension": ".cpp",
   "mimetype": "text/x-c++src",
   "name": "c++",
   "version": "17"
  },
  "widgets": {
   "application/vnd.jupyter.widget-state+json": {
    "state": {},
    "version_major": 2,
    "version_minor": 0
   }
  }
 },
 "nbformat": 4,
 "nbformat_minor": 5
}
